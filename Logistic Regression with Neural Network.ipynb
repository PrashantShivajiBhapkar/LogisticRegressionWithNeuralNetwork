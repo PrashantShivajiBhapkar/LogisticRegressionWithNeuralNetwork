{
 "cells": [
  {
   "cell_type": "code",
   "execution_count": 1,
   "metadata": {
    "collapsed": false
   },
   "outputs": [],
   "source": [
    "# Importing Libraries\n",
    "import warnings\n",
    "warnings.filterwarnings('ignore')\n",
    "import pandas as pd\n",
    "import numpy as np\n",
    "import matplotlib.pyplot as plt"
   ]
  },
  {
   "cell_type": "code",
   "execution_count": 2,
   "metadata": {
    "collapsed": false
   },
   "outputs": [
    {
     "data": {
      "text/html": [
       "<div>\n",
       "<table border=\"1\" class=\"dataframe\">\n",
       "  <thead>\n",
       "    <tr style=\"text-align: right;\">\n",
       "      <th></th>\n",
       "      <th>PassengerId</th>\n",
       "      <th>Survived</th>\n",
       "      <th>Pclass</th>\n",
       "      <th>Name</th>\n",
       "      <th>Sex</th>\n",
       "      <th>Age</th>\n",
       "      <th>SibSp</th>\n",
       "      <th>Parch</th>\n",
       "      <th>Ticket</th>\n",
       "      <th>Fare</th>\n",
       "      <th>Cabin</th>\n",
       "      <th>Embarked</th>\n",
       "    </tr>\n",
       "  </thead>\n",
       "  <tbody>\n",
       "    <tr>\n",
       "      <th>0</th>\n",
       "      <td>1</td>\n",
       "      <td>0</td>\n",
       "      <td>3</td>\n",
       "      <td>Braund, Mr. Owen Harris</td>\n",
       "      <td>male</td>\n",
       "      <td>22.0</td>\n",
       "      <td>1</td>\n",
       "      <td>0</td>\n",
       "      <td>A/5 21171</td>\n",
       "      <td>7.2500</td>\n",
       "      <td>NaN</td>\n",
       "      <td>S</td>\n",
       "    </tr>\n",
       "    <tr>\n",
       "      <th>1</th>\n",
       "      <td>2</td>\n",
       "      <td>1</td>\n",
       "      <td>1</td>\n",
       "      <td>Cumings, Mrs. John Bradley (Florence Briggs Th...</td>\n",
       "      <td>female</td>\n",
       "      <td>38.0</td>\n",
       "      <td>1</td>\n",
       "      <td>0</td>\n",
       "      <td>PC 17599</td>\n",
       "      <td>71.2833</td>\n",
       "      <td>C85</td>\n",
       "      <td>C</td>\n",
       "    </tr>\n",
       "    <tr>\n",
       "      <th>2</th>\n",
       "      <td>3</td>\n",
       "      <td>1</td>\n",
       "      <td>3</td>\n",
       "      <td>Heikkinen, Miss. Laina</td>\n",
       "      <td>female</td>\n",
       "      <td>26.0</td>\n",
       "      <td>0</td>\n",
       "      <td>0</td>\n",
       "      <td>STON/O2. 3101282</td>\n",
       "      <td>7.9250</td>\n",
       "      <td>NaN</td>\n",
       "      <td>S</td>\n",
       "    </tr>\n",
       "    <tr>\n",
       "      <th>3</th>\n",
       "      <td>4</td>\n",
       "      <td>1</td>\n",
       "      <td>1</td>\n",
       "      <td>Futrelle, Mrs. Jacques Heath (Lily May Peel)</td>\n",
       "      <td>female</td>\n",
       "      <td>35.0</td>\n",
       "      <td>1</td>\n",
       "      <td>0</td>\n",
       "      <td>113803</td>\n",
       "      <td>53.1000</td>\n",
       "      <td>C123</td>\n",
       "      <td>S</td>\n",
       "    </tr>\n",
       "    <tr>\n",
       "      <th>4</th>\n",
       "      <td>5</td>\n",
       "      <td>0</td>\n",
       "      <td>3</td>\n",
       "      <td>Allen, Mr. William Henry</td>\n",
       "      <td>male</td>\n",
       "      <td>35.0</td>\n",
       "      <td>0</td>\n",
       "      <td>0</td>\n",
       "      <td>373450</td>\n",
       "      <td>8.0500</td>\n",
       "      <td>NaN</td>\n",
       "      <td>S</td>\n",
       "    </tr>\n",
       "  </tbody>\n",
       "</table>\n",
       "</div>"
      ],
      "text/plain": [
       "   PassengerId  Survived  Pclass  \\\n",
       "0            1         0       3   \n",
       "1            2         1       1   \n",
       "2            3         1       3   \n",
       "3            4         1       1   \n",
       "4            5         0       3   \n",
       "\n",
       "                                                Name     Sex   Age  SibSp  \\\n",
       "0                            Braund, Mr. Owen Harris    male  22.0      1   \n",
       "1  Cumings, Mrs. John Bradley (Florence Briggs Th...  female  38.0      1   \n",
       "2                             Heikkinen, Miss. Laina  female  26.0      0   \n",
       "3       Futrelle, Mrs. Jacques Heath (Lily May Peel)  female  35.0      1   \n",
       "4                           Allen, Mr. William Henry    male  35.0      0   \n",
       "\n",
       "   Parch            Ticket     Fare Cabin Embarked  \n",
       "0      0         A/5 21171   7.2500   NaN        S  \n",
       "1      0          PC 17599  71.2833   C85        C  \n",
       "2      0  STON/O2. 3101282   7.9250   NaN        S  \n",
       "3      0            113803  53.1000  C123        S  \n",
       "4      0            373450   8.0500   NaN        S  "
      ]
     },
     "execution_count": 2,
     "metadata": {},
     "output_type": "execute_result"
    }
   ],
   "source": [
    "# Importing Dataset\n",
    "dataset = pd.read_csv('C:/GitProjects/Logistic Regression with Neural Network/DataSet/train.csv')\n",
    "dataset.head()"
   ]
  },
  {
   "cell_type": "code",
   "execution_count": 3,
   "metadata": {
    "collapsed": false
   },
   "outputs": [
    {
     "data": {
      "text/html": [
       "<div>\n",
       "<table border=\"1\" class=\"dataframe\">\n",
       "  <thead>\n",
       "    <tr style=\"text-align: right;\">\n",
       "      <th></th>\n",
       "      <th>Pclass</th>\n",
       "      <th>Sex</th>\n",
       "      <th>Age</th>\n",
       "      <th>SibSp</th>\n",
       "      <th>Parch</th>\n",
       "      <th>Fare</th>\n",
       "      <th>Embarked</th>\n",
       "    </tr>\n",
       "  </thead>\n",
       "  <tbody>\n",
       "    <tr>\n",
       "      <th>0</th>\n",
       "      <td>3</td>\n",
       "      <td>male</td>\n",
       "      <td>22.0</td>\n",
       "      <td>1</td>\n",
       "      <td>0</td>\n",
       "      <td>7.2500</td>\n",
       "      <td>S</td>\n",
       "    </tr>\n",
       "    <tr>\n",
       "      <th>1</th>\n",
       "      <td>1</td>\n",
       "      <td>female</td>\n",
       "      <td>38.0</td>\n",
       "      <td>1</td>\n",
       "      <td>0</td>\n",
       "      <td>71.2833</td>\n",
       "      <td>C</td>\n",
       "    </tr>\n",
       "    <tr>\n",
       "      <th>2</th>\n",
       "      <td>3</td>\n",
       "      <td>female</td>\n",
       "      <td>26.0</td>\n",
       "      <td>0</td>\n",
       "      <td>0</td>\n",
       "      <td>7.9250</td>\n",
       "      <td>S</td>\n",
       "    </tr>\n",
       "    <tr>\n",
       "      <th>3</th>\n",
       "      <td>1</td>\n",
       "      <td>female</td>\n",
       "      <td>35.0</td>\n",
       "      <td>1</td>\n",
       "      <td>0</td>\n",
       "      <td>53.1000</td>\n",
       "      <td>S</td>\n",
       "    </tr>\n",
       "    <tr>\n",
       "      <th>4</th>\n",
       "      <td>3</td>\n",
       "      <td>male</td>\n",
       "      <td>35.0</td>\n",
       "      <td>0</td>\n",
       "      <td>0</td>\n",
       "      <td>8.0500</td>\n",
       "      <td>S</td>\n",
       "    </tr>\n",
       "  </tbody>\n",
       "</table>\n",
       "</div>"
      ],
      "text/plain": [
       "   Pclass     Sex   Age  SibSp  Parch     Fare Embarked\n",
       "0       3    male  22.0      1      0   7.2500        S\n",
       "1       1  female  38.0      1      0  71.2833        C\n",
       "2       3  female  26.0      0      0   7.9250        S\n",
       "3       1  female  35.0      1      0  53.1000        S\n",
       "4       3    male  35.0      0      0   8.0500        S"
      ]
     },
     "execution_count": 3,
     "metadata": {},
     "output_type": "execute_result"
    }
   ],
   "source": [
    "# Excluding unnecessary features\n",
    "X_train = dataset.iloc[:,(2,4,5,6,7,9,11)]\n",
    "X_train.head()"
   ]
  },
  {
   "cell_type": "code",
   "execution_count": 4,
   "metadata": {
    "collapsed": false
   },
   "outputs": [
    {
     "data": {
      "text/plain": [
       "Pclass        0\n",
       "Sex           0\n",
       "Age         177\n",
       "SibSp         0\n",
       "Parch         0\n",
       "Fare          0\n",
       "Embarked      2\n",
       "dtype: int64"
      ]
     },
     "execution_count": 4,
     "metadata": {},
     "output_type": "execute_result"
    }
   ],
   "source": [
    "X_train.isnull().sum()"
   ]
  },
  {
   "cell_type": "code",
   "execution_count": 5,
   "metadata": {
    "collapsed": false
   },
   "outputs": [
    {
     "data": {
      "text/plain": [
       "Pclass      0\n",
       "Sex         0\n",
       "Age         0\n",
       "SibSp       0\n",
       "Parch       0\n",
       "Fare        0\n",
       "Embarked    2\n",
       "dtype: int64"
      ]
     },
     "execution_count": 5,
     "metadata": {},
     "output_type": "execute_result"
    }
   ],
   "source": [
    "X_train['Age'].fillna(X_train['Age'].mean(), inplace = 1)\n",
    "X_train.isnull().sum()\n",
    "#df[\"B\"].fillna(df[\"B\"].median())"
   ]
  },
  {
   "cell_type": "code",
   "execution_count": 6,
   "metadata": {
    "collapsed": false
   },
   "outputs": [
    {
     "data": {
      "text/plain": [
       "Embarked\n",
       "C    168\n",
       "Q     77\n",
       "S    644\n",
       "Name: Pclass, dtype: int64"
      ]
     },
     "execution_count": 6,
     "metadata": {},
     "output_type": "execute_result"
    }
   ],
   "source": [
    "X_train.groupby(['Embarked'])['Pclass'].count()"
   ]
  },
  {
   "cell_type": "code",
   "execution_count": 7,
   "metadata": {
    "collapsed": false
   },
   "outputs": [
    {
     "data": {
      "text/plain": [
       "Pclass      0\n",
       "Sex         0\n",
       "Age         0\n",
       "SibSp       0\n",
       "Parch       0\n",
       "Fare        0\n",
       "Embarked    0\n",
       "dtype: int64"
      ]
     },
     "execution_count": 7,
     "metadata": {},
     "output_type": "execute_result"
    }
   ],
   "source": [
    "X_train['Embarked'].fillna('S', inplace = 1)\n",
    "X_train.isnull().sum()"
   ]
  },
  {
   "cell_type": "code",
   "execution_count": 8,
   "metadata": {
    "collapsed": false,
    "scrolled": true
   },
   "outputs": [
    {
     "data": {
      "text/html": [
       "<div>\n",
       "<table border=\"1\" class=\"dataframe\">\n",
       "  <thead>\n",
       "    <tr style=\"text-align: right;\">\n",
       "      <th></th>\n",
       "      <th>Pclass</th>\n",
       "      <th>Sex</th>\n",
       "      <th>Age</th>\n",
       "      <th>SibSp</th>\n",
       "      <th>Parch</th>\n",
       "      <th>Fare</th>\n",
       "      <th>Embarked</th>\n",
       "    </tr>\n",
       "  </thead>\n",
       "  <tbody>\n",
       "    <tr>\n",
       "      <th>0</th>\n",
       "      <td>3</td>\n",
       "      <td>1</td>\n",
       "      <td>22.0</td>\n",
       "      <td>1</td>\n",
       "      <td>0</td>\n",
       "      <td>7.2500</td>\n",
       "      <td>2</td>\n",
       "    </tr>\n",
       "    <tr>\n",
       "      <th>1</th>\n",
       "      <td>1</td>\n",
       "      <td>0</td>\n",
       "      <td>38.0</td>\n",
       "      <td>1</td>\n",
       "      <td>0</td>\n",
       "      <td>71.2833</td>\n",
       "      <td>0</td>\n",
       "    </tr>\n",
       "    <tr>\n",
       "      <th>2</th>\n",
       "      <td>3</td>\n",
       "      <td>0</td>\n",
       "      <td>26.0</td>\n",
       "      <td>0</td>\n",
       "      <td>0</td>\n",
       "      <td>7.9250</td>\n",
       "      <td>2</td>\n",
       "    </tr>\n",
       "    <tr>\n",
       "      <th>3</th>\n",
       "      <td>1</td>\n",
       "      <td>0</td>\n",
       "      <td>35.0</td>\n",
       "      <td>1</td>\n",
       "      <td>0</td>\n",
       "      <td>53.1000</td>\n",
       "      <td>2</td>\n",
       "    </tr>\n",
       "    <tr>\n",
       "      <th>4</th>\n",
       "      <td>3</td>\n",
       "      <td>1</td>\n",
       "      <td>35.0</td>\n",
       "      <td>0</td>\n",
       "      <td>0</td>\n",
       "      <td>8.0500</td>\n",
       "      <td>2</td>\n",
       "    </tr>\n",
       "  </tbody>\n",
       "</table>\n",
       "</div>"
      ],
      "text/plain": [
       "   Pclass  Sex   Age  SibSp  Parch     Fare  Embarked\n",
       "0       3    1  22.0      1      0   7.2500         2\n",
       "1       1    0  38.0      1      0  71.2833         0\n",
       "2       3    0  26.0      0      0   7.9250         2\n",
       "3       1    0  35.0      1      0  53.1000         2\n",
       "4       3    1  35.0      0      0   8.0500         2"
      ]
     },
     "execution_count": 8,
     "metadata": {},
     "output_type": "execute_result"
    }
   ],
   "source": [
    "from sklearn.preprocessing import LabelEncoder\n",
    "le = LabelEncoder()\n",
    "le.fit(X_train['Embarked'])\n",
    "X_train['Embarked'] = le.transform(X_train['Embarked'])\n",
    "le.fit(X_train['Sex'])\n",
    "X_train['Sex'] = le.transform(X_train['Sex'])\n",
    "X_train.head()"
   ]
  },
  {
   "cell_type": "code",
   "execution_count": 9,
   "metadata": {
    "collapsed": false
   },
   "outputs": [
    {
     "data": {
      "text/plain": [
       "array([[  3.    ,   1.    ,  22.    ,   1.    ,   0.    ,   7.25  ,   2.    ],\n",
       "       [  1.    ,   0.    ,  38.    ,   1.    ,   0.    ,  71.2833,   0.    ]])"
      ]
     },
     "execution_count": 9,
     "metadata": {},
     "output_type": "execute_result"
    }
   ],
   "source": [
    "X_train = X_train.values\n",
    "X_train[0:2]"
   ]
  },
  {
   "cell_type": "code",
   "execution_count": 10,
   "metadata": {
    "collapsed": false
   },
   "outputs": [
    {
     "data": {
      "text/plain": [
       "array([[  0.    ,   0.    ,   1.    ,   3.    ,   1.    ,  22.    ,\n",
       "          1.    ,   0.    ,   7.25  ],\n",
       "       [  1.    ,   0.    ,   0.    ,   1.    ,   0.    ,  38.    ,\n",
       "          1.    ,   0.    ,  71.2833]])"
      ]
     },
     "execution_count": 10,
     "metadata": {},
     "output_type": "execute_result"
    }
   ],
   "source": [
    "from sklearn.preprocessing import OneHotEncoder\n",
    "en = OneHotEncoder(categorical_features = [6])\n",
    "X_train = en.fit_transform(X_train).toarray()\n",
    "X_train[0:2]"
   ]
  },
  {
   "cell_type": "code",
   "execution_count": 11,
   "metadata": {
    "collapsed": false
   },
   "outputs": [
    {
     "data": {
      "text/plain": [
       "(891, 8)"
      ]
     },
     "execution_count": 11,
     "metadata": {},
     "output_type": "execute_result"
    }
   ],
   "source": [
    "X_train = X_train[:,1:]\n",
    "X_train.shape"
   ]
  },
  {
   "cell_type": "code",
   "execution_count": 12,
   "metadata": {
    "collapsed": false
   },
   "outputs": [
    {
     "data": {
      "text/plain": [
       "(1, 891)"
      ]
     },
     "execution_count": 12,
     "metadata": {},
     "output_type": "execute_result"
    }
   ],
   "source": [
    "Y_train = dataset.iloc[:,1].values\n",
    "Y_train = Y_train.reshape(1,Y_train.shape[0])\n",
    "Y_train.shape"
   ]
  },
  {
   "cell_type": "code",
   "execution_count": 13,
   "metadata": {
    "collapsed": false
   },
   "outputs": [
    {
     "data": {
      "text/plain": [
       "array([[0, 1, 1, 1, 0, 0, 0, 0, 1, 1, 1, 1, 0, 0, 0, 1, 0, 1, 0, 1, 0, 1,\n",
       "        1, 1, 0, 1, 0, 0, 1, 0, 0, 1, 1, 0, 0, 0, 1, 0, 0, 1, 0, 0, 0, 1,\n",
       "        1, 0, 0, 1, 0, 0, 0, 0, 1, 1, 0, 1, 1, 0, 1, 0, 0, 1, 0, 0, 0, 1,\n",
       "        1, 0, 1, 0, 0, 0, 0, 0, 1, 0, 0, 0, 1, 1, 0, 1, 1, 0, 1, 1, 0, 0,\n",
       "        1, 0, 0, 0, 0, 0, 0, 0, 0, 1, 1, 0, 0, 0, 0, 0, 0, 0, 1, 1, 0, 1,\n",
       "        0, 0, 0, 0, 0, 0, 0, 0, 0, 0, 0, 0, 0, 1, 0, 1, 0, 1, 1, 0, 0, 0,\n",
       "        0, 1, 0, 0, 1, 0, 0, 0, 0, 1, 1, 0, 0, 0, 1, 0, 0, 0, 0, 1, 0, 0,\n",
       "        0, 0, 1, 0, 0, 0, 0, 1, 0, 0, 0, 1, 1, 0, 0, 0, 0, 0, 1, 0, 0, 0,\n",
       "        0, 0, 0, 0, 0, 0, 0, 1, 1, 0, 1, 1, 0, 0, 1, 0, 1, 1, 1, 1, 0, 0,\n",
       "        1, 0, 0, 0, 0, 0, 1, 0, 0, 1, 1, 1, 0, 1, 0, 0, 0, 1, 1, 0, 1, 0,\n",
       "        1, 0, 0, 0, 1, 0, 1, 0, 0, 0, 1, 0, 0, 1, 0, 0, 0, 1, 0, 0, 0, 1,\n",
       "        0, 0, 0, 0, 0, 1, 1, 0, 0, 0, 0, 0, 0, 1, 1, 1, 1, 1, 0, 1, 0, 0,\n",
       "        0, 0, 0, 1, 1, 1, 0, 1, 1, 0, 1, 1, 0, 0, 0, 1, 0, 0, 0, 1, 0, 0,\n",
       "        1, 0, 1, 1, 1, 1, 0, 0, 0, 0, 0, 0, 1, 1, 1, 1, 0, 1, 0, 1, 1, 1,\n",
       "        0, 1, 1, 1, 0, 0, 0, 1, 1, 0, 1, 1, 0, 0, 1, 1, 0, 1, 0, 1, 1, 1,\n",
       "        1, 0, 0, 0, 1, 0, 0, 1, 1, 0, 1, 1, 0, 0, 0, 1, 1, 1, 1, 0, 0, 0,\n",
       "        0, 0, 0, 0, 1, 0, 1, 1, 0, 0, 0, 0, 0, 0, 1, 1, 1, 1, 1, 0, 0, 0,\n",
       "        0, 1, 1, 0, 0, 0, 1, 1, 0, 1, 0, 0, 0, 1, 0, 1, 1, 1, 0, 1, 1, 0,\n",
       "        0, 0, 0, 1, 1, 0, 0, 0, 0, 0, 0, 1, 0, 0, 0, 0, 1, 0, 1, 0, 1, 1,\n",
       "        0, 0, 0, 0, 0, 0, 0, 0, 1, 1, 0, 1, 1, 1, 1, 0, 0, 1, 0, 1, 0, 0,\n",
       "        1, 0, 0, 1, 1, 1, 1, 1, 1, 1, 0, 0, 0, 1, 0, 1, 0, 1, 1, 0, 1, 0,\n",
       "        0, 0, 0, 0, 0, 0, 0, 1, 0, 0, 1, 1, 0, 0, 0, 0, 0, 1, 0, 0, 0, 1,\n",
       "        1, 0, 1, 0, 0, 1, 0, 0, 0, 0, 0, 0, 1, 0, 0, 0, 0, 0, 0, 0, 1, 0,\n",
       "        1, 1, 0, 1, 1, 0, 1, 1, 0, 0, 1, 0, 1, 0, 1, 0, 0, 1, 0, 0, 1, 0,\n",
       "        0, 0, 1, 0, 0, 1, 0, 1, 0, 1, 0, 1, 1, 0, 0, 1, 0, 0, 1, 1, 0, 1,\n",
       "        1, 0, 0, 1, 1, 0, 1, 0, 1, 1, 0, 0, 0, 0, 0, 0, 0, 0, 0, 1, 1, 1,\n",
       "        1, 1, 0, 0, 1, 1, 0, 1, 1, 1, 0, 0, 0, 1, 0, 1, 0, 0, 0, 1, 0, 0,\n",
       "        0, 0, 1, 0, 0, 1, 1, 0, 0, 0, 1, 0, 0, 1, 1, 1, 0, 0, 1, 0, 0, 1,\n",
       "        0, 0, 1, 0, 0, 1, 1, 0, 0, 0, 0, 1, 0, 0, 1, 0, 1, 0, 0, 1, 0, 0,\n",
       "        0, 0, 0, 1, 0, 1, 1, 1, 0, 1, 0, 1, 0, 1, 0, 1, 0, 0, 0, 0, 0, 0,\n",
       "        1, 0, 0, 0, 1, 0, 0, 0, 0, 1, 1, 0, 0, 1, 0, 0, 0, 1, 0, 1, 0, 1,\n",
       "        0, 0, 0, 0, 0, 0, 0, 1, 1, 1, 1, 0, 0, 0, 0, 1, 0, 0, 1, 1, 0, 0,\n",
       "        0, 0, 1, 1, 1, 1, 1, 0, 1, 0, 0, 0, 1, 1, 0, 0, 1, 0, 0, 0, 1, 0,\n",
       "        1, 1, 0, 0, 1, 0, 0, 0, 0, 0, 0, 1, 0, 0, 1, 0, 1, 0, 1, 0, 0, 1,\n",
       "        0, 0, 1, 1, 0, 0, 1, 1, 0, 0, 0, 1, 0, 0, 1, 1, 0, 1, 0, 0, 0, 0,\n",
       "        0, 0, 0, 0, 1, 0, 0, 1, 0, 1, 1, 1, 0, 0, 0, 0, 1, 0, 1, 0, 0, 0,\n",
       "        0, 0, 0, 0, 1, 1, 0, 0, 0, 1, 1, 1, 1, 0, 0, 0, 0, 1, 0, 0, 0, 0,\n",
       "        0, 0, 0, 0, 0, 0, 1, 1, 0, 1, 0, 0, 0, 1, 1, 1, 1, 1, 0, 0, 0, 1,\n",
       "        0, 0, 1, 1, 0, 0, 1, 0, 0, 0, 0, 0, 0, 1, 0, 0, 0, 1, 0, 1, 1, 1,\n",
       "        1, 0, 0, 0, 1, 0, 0, 1, 1, 0, 0, 1, 0, 1, 0, 0, 1, 1, 0, 0, 0, 1,\n",
       "        1, 0, 0, 0, 0, 0, 0, 1, 0, 1, 0]], dtype=int64)"
      ]
     },
     "execution_count": 13,
     "metadata": {},
     "output_type": "execute_result"
    }
   ],
   "source": [
    "Y_train"
   ]
  },
  {
   "cell_type": "code",
   "execution_count": 14,
   "metadata": {
    "collapsed": false
   },
   "outputs": [
    {
     "name": "stdout",
     "output_type": "stream",
     "text": [
      "Number of Training examples: 891\n",
      "Number of Features: 8\n"
     ]
    }
   ],
   "source": [
    "print(\"Number of Training examples: \" + str(X_train.shape[0]))\n",
    "print(\"Number of Features: \" + str(X_train.shape[1]))"
   ]
  },
  {
   "cell_type": "code",
   "execution_count": 15,
   "metadata": {
    "collapsed": false
   },
   "outputs": [
    {
     "data": {
      "text/plain": [
       "(8, 891)"
      ]
     },
     "execution_count": 15,
     "metadata": {},
     "output_type": "execute_result"
    }
   ],
   "source": [
    "# Reshaping the matrices:\n",
    "X_train = X_train.T\n",
    "X_train.shape"
   ]
  },
  {
   "cell_type": "code",
   "execution_count": 16,
   "metadata": {
    "collapsed": true
   },
   "outputs": [],
   "source": [
    "# Defining sigmoid function\n",
    "import math\n",
    "def sigmoid(x):\n",
    "    s = 1/(1+np.exp(-x))\n",
    "    return s"
   ]
  },
  {
   "cell_type": "code",
   "execution_count": 17,
   "metadata": {
    "collapsed": false
   },
   "outputs": [
    {
     "name": "stdout",
     "output_type": "stream",
     "text": [
      "[ 0.73105858  0.88079708  0.95257413]\n"
     ]
    }
   ],
   "source": [
    "# a = np.array([1,5,7])\n",
    "x = np.array([1, 2, 3])\n",
    "print(sigmoid(x))"
   ]
  },
  {
   "cell_type": "code",
   "execution_count": 18,
   "metadata": {
    "collapsed": true
   },
   "outputs": [],
   "source": [
    "# initializing weights and bias values\n",
    "def initialize_weights(dim):\n",
    "    w = np.zeros((dim,1))\n",
    "    b = 0\n",
    "    return w, b"
   ]
  },
  {
   "cell_type": "code",
   "execution_count": 19,
   "metadata": {
    "collapsed": false
   },
   "outputs": [
    {
     "name": "stdout",
     "output_type": "stream",
     "text": [
      "w: [[ 0.]\n",
      " [ 0.]\n",
      " [ 0.]\n",
      " [ 0.]\n",
      " [ 0.]]\n",
      "b: 0\n"
     ]
    }
   ],
   "source": [
    "w, b = initialize_weights(5)\n",
    "print(\"w: \" + str(w))\n",
    "print(\"b: \" + str(b))"
   ]
  },
  {
   "cell_type": "code",
   "execution_count": 20,
   "metadata": {
    "collapsed": true
   },
   "outputs": [],
   "source": [
    "# Defining forward and backward propagation\n",
    "def propagate(w, b, X, Y):\n",
    "    m = X.shape[1]\n",
    "    # Forward Propagation\n",
    "    A = sigmoid(np.dot(w.T, X)+b)\n",
    "    cost = -(1/m)*np.sum((Y * np.log(A)) + ((1-Y)*np.log(1-A)))\n",
    "    \n",
    "    # Backward Propagation\n",
    "    dw = np.dot(X, ((A-Y).T))/m\n",
    "    db = (1/m)*np.sum(A-Y)\n",
    "    cost = np.squeeze(cost)\n",
    "    \n",
    "    grads = {\"dw\": dw,\n",
    "             \"db\": db}\n",
    "    return grads, cost"
   ]
  },
  {
   "cell_type": "code",
   "execution_count": 21,
   "metadata": {
    "collapsed": false
   },
   "outputs": [
    {
     "name": "stdout",
     "output_type": "stream",
     "text": [
      "dw = [[ 0.99845601]\n",
      " [ 2.39507239]]\n",
      "db = 0.00145557813678\n",
      "cost = 5.80154531939\n"
     ]
    }
   ],
   "source": [
    "w, b, X, Y = np.array([[1.],[2.]]), 2., np.array([[1.,2.,-1.],[3.,4.,-3.2]]), np.array([[1,0,1]])\n",
    "grads, cost = propagate(w, b, X, Y)\n",
    "print (\"dw = \" + str(grads[\"dw\"]))\n",
    "print (\"db = \" + str(grads[\"db\"]))\n",
    "print (\"cost = \" + str(cost))"
   ]
  },
  {
   "cell_type": "code",
   "execution_count": 22,
   "metadata": {
    "collapsed": true
   },
   "outputs": [],
   "source": [
    "def optimize(w, b, X, Y, num_iterations, learning_rate, print_cost = False):\n",
    "    costs = []\n",
    "    for i in range(num_iterations):\n",
    "        grads, cost = propagate(w, b, X, Y)\n",
    "        \n",
    "        dw = grads[\"dw\"]\n",
    "        db = grads[\"db\"]\n",
    "        \n",
    "        w = w - (learning_rate*dw)\n",
    "        b = b - (learning_rate*db)\n",
    "        \n",
    "        if i%100 == 0:\n",
    "            costs.append(cost)\n",
    "        \n",
    "        if print_cost and i%100 == 0:\n",
    "            print('Cost after iteration %s: %f '%(i, cost))\n",
    "        \n",
    "    params = {\"w\": w,\n",
    "              \"b\": b}\n",
    "    \n",
    "    grads = {\"dw\": dw,\n",
    "             \"db\": db}\n",
    "    \n",
    "    return params, grads, costs     \n",
    "        \n",
    "        "
   ]
  },
  {
   "cell_type": "code",
   "execution_count": 23,
   "metadata": {
    "collapsed": false
   },
   "outputs": [
    {
     "name": "stdout",
     "output_type": "stream",
     "text": [
      "w = [[ 0.19033591]\n",
      " [ 0.12259159]]\n",
      "b = 1.92535983008\n",
      "dw = [[ 0.67752042]\n",
      " [ 1.41625495]]\n",
      "db = 0.219194504541\n"
     ]
    }
   ],
   "source": [
    "params, grads, costs = optimize(w, b, X, Y, num_iterations= 100, learning_rate = 0.009, print_cost = False)\n",
    "\n",
    "print (\"w = \" + str(params[\"w\"]))\n",
    "print (\"b = \" + str(params[\"b\"]))\n",
    "print (\"dw = \" + str(grads[\"dw\"]))\n",
    "print (\"db = \" + str(grads[\"db\"]))"
   ]
  },
  {
   "cell_type": "code",
   "execution_count": 24,
   "metadata": {
    "collapsed": false
   },
   "outputs": [],
   "source": [
    "def predict(w, b, X):\n",
    "    m = X.shape[1]\n",
    "    Y_prediction = np.zeros((1,m))\n",
    "    w = w.reshape(X.shape[0], 1)\n",
    "    \n",
    "    A = sigmoid(np.dot(w.T, X)+b)\n",
    "    \n",
    "    for i in range(A.shape[1]):\n",
    "        if A[0, i] > 0.5:\n",
    "            Y_prediction[0,i] = 1\n",
    "        else:\n",
    "            Y_prediction[0,i] = 0  \n",
    "    return Y_prediction"
   ]
  },
  {
   "cell_type": "code",
   "execution_count": 25,
   "metadata": {
    "collapsed": false
   },
   "outputs": [
    {
     "name": "stdout",
     "output_type": "stream",
     "text": [
      "predictions = [[ 1.  1.  0.]]\n"
     ]
    }
   ],
   "source": [
    "w = np.array([[0.1124579],[0.23106775]])\n",
    "b = -0.3\n",
    "X = np.array([[1.,-1.1,-3.2],[1.2,2.,0.1]])\n",
    "print (\"predictions = \" + str(predict(w, b, X)))"
   ]
  },
  {
   "cell_type": "code",
   "execution_count": 26,
   "metadata": {
    "collapsed": true
   },
   "outputs": [],
   "source": [
    "def model(X_train, Y_train, X_test, Y_test, num_iterations = 2000, learning_rate = 0.5, print_cost = False):\n",
    "    # Initialize weights\n",
    "    w, b = initialize_weights(X_train.shape[0])\n",
    "    \n",
    "    # Graddient Descent\n",
    "    parameters, grads, costs = optimize(w, b, X_train, Y_train, num_iterations, learning_rate, print_cost)\n",
    "    \n",
    "    # Predict Train/Test examples\n",
    "    Y_prediction_train = predict(parameters[\"w\"], parameters[\"b\"], X_train)\n",
    "    Y_prediction_test = predict(parameters[\"w\"], parameters[\"b\"], X_test)\n",
    "    \n",
    "    # Printing accuracy\n",
    "    print(\"Train Accuracy is : {}\".format(100 - np.mean(np.abs(Y_prediction_train - Y_train))*100))\n",
    "    print(\"Test Accuracy is : {}\".format(100 - np.mean(np.abs(Y_prediction_test - Y_test))*100))\n",
    "    \n",
    "    d = {\"costs\": costs,\n",
    "         \"Y_prediction_test\": Y_prediction_test, \n",
    "         \"Y_prediction_train\" : Y_prediction_train, \n",
    "         \"w\" : w, \n",
    "         \"b\" : b,\n",
    "         \"learning_rate\" : learning_rate,\n",
    "         \"num_iterations\": num_iterations}\n",
    "    \n",
    "    return d"
   ]
  },
  {
   "cell_type": "code",
   "execution_count": 27,
   "metadata": {
    "collapsed": false
   },
   "outputs": [
    {
     "data": {
      "text/html": [
       "<div>\n",
       "<table border=\"1\" class=\"dataframe\">\n",
       "  <thead>\n",
       "    <tr style=\"text-align: right;\">\n",
       "      <th></th>\n",
       "      <th>PassengerId</th>\n",
       "      <th>Pclass</th>\n",
       "      <th>Name</th>\n",
       "      <th>Sex</th>\n",
       "      <th>Age</th>\n",
       "      <th>SibSp</th>\n",
       "      <th>Parch</th>\n",
       "      <th>Ticket</th>\n",
       "      <th>Fare</th>\n",
       "      <th>Cabin</th>\n",
       "      <th>Embarked</th>\n",
       "    </tr>\n",
       "  </thead>\n",
       "  <tbody>\n",
       "    <tr>\n",
       "      <th>0</th>\n",
       "      <td>892</td>\n",
       "      <td>3</td>\n",
       "      <td>Kelly, Mr. James</td>\n",
       "      <td>male</td>\n",
       "      <td>34.5</td>\n",
       "      <td>0</td>\n",
       "      <td>0</td>\n",
       "      <td>330911</td>\n",
       "      <td>7.8292</td>\n",
       "      <td>NaN</td>\n",
       "      <td>Q</td>\n",
       "    </tr>\n",
       "    <tr>\n",
       "      <th>1</th>\n",
       "      <td>893</td>\n",
       "      <td>3</td>\n",
       "      <td>Wilkes, Mrs. James (Ellen Needs)</td>\n",
       "      <td>female</td>\n",
       "      <td>47.0</td>\n",
       "      <td>1</td>\n",
       "      <td>0</td>\n",
       "      <td>363272</td>\n",
       "      <td>7.0000</td>\n",
       "      <td>NaN</td>\n",
       "      <td>S</td>\n",
       "    </tr>\n",
       "    <tr>\n",
       "      <th>2</th>\n",
       "      <td>894</td>\n",
       "      <td>2</td>\n",
       "      <td>Myles, Mr. Thomas Francis</td>\n",
       "      <td>male</td>\n",
       "      <td>62.0</td>\n",
       "      <td>0</td>\n",
       "      <td>0</td>\n",
       "      <td>240276</td>\n",
       "      <td>9.6875</td>\n",
       "      <td>NaN</td>\n",
       "      <td>Q</td>\n",
       "    </tr>\n",
       "    <tr>\n",
       "      <th>3</th>\n",
       "      <td>895</td>\n",
       "      <td>3</td>\n",
       "      <td>Wirz, Mr. Albert</td>\n",
       "      <td>male</td>\n",
       "      <td>27.0</td>\n",
       "      <td>0</td>\n",
       "      <td>0</td>\n",
       "      <td>315154</td>\n",
       "      <td>8.6625</td>\n",
       "      <td>NaN</td>\n",
       "      <td>S</td>\n",
       "    </tr>\n",
       "    <tr>\n",
       "      <th>4</th>\n",
       "      <td>896</td>\n",
       "      <td>3</td>\n",
       "      <td>Hirvonen, Mrs. Alexander (Helga E Lindqvist)</td>\n",
       "      <td>female</td>\n",
       "      <td>22.0</td>\n",
       "      <td>1</td>\n",
       "      <td>1</td>\n",
       "      <td>3101298</td>\n",
       "      <td>12.2875</td>\n",
       "      <td>NaN</td>\n",
       "      <td>S</td>\n",
       "    </tr>\n",
       "  </tbody>\n",
       "</table>\n",
       "</div>"
      ],
      "text/plain": [
       "   PassengerId  Pclass                                          Name     Sex  \\\n",
       "0          892       3                              Kelly, Mr. James    male   \n",
       "1          893       3              Wilkes, Mrs. James (Ellen Needs)  female   \n",
       "2          894       2                     Myles, Mr. Thomas Francis    male   \n",
       "3          895       3                              Wirz, Mr. Albert    male   \n",
       "4          896       3  Hirvonen, Mrs. Alexander (Helga E Lindqvist)  female   \n",
       "\n",
       "    Age  SibSp  Parch   Ticket     Fare Cabin Embarked  \n",
       "0  34.5      0      0   330911   7.8292   NaN        Q  \n",
       "1  47.0      1      0   363272   7.0000   NaN        S  \n",
       "2  62.0      0      0   240276   9.6875   NaN        Q  \n",
       "3  27.0      0      0   315154   8.6625   NaN        S  \n",
       "4  22.0      1      1  3101298  12.2875   NaN        S  "
      ]
     },
     "execution_count": 27,
     "metadata": {},
     "output_type": "execute_result"
    }
   ],
   "source": [
    "# Importing test set and calling model function\n",
    "\n",
    "testdataset = pd.read_csv('C:/GitProjects/Logistic Regression with Neural Network/DataSet/test.csv')\n",
    "testdataset.head()"
   ]
  },
  {
   "cell_type": "code",
   "execution_count": 28,
   "metadata": {
    "collapsed": false
   },
   "outputs": [
    {
     "name": "stdout",
     "output_type": "stream",
     "text": [
      "Cost after iteration 0: 0.693147 \n",
      "Cost after iteration 100: 0.682162 \n",
      "Cost after iteration 200: 0.668293 \n",
      "Cost after iteration 300: 0.656988 \n",
      "Cost after iteration 400: 0.647541 \n",
      "Cost after iteration 500: 0.639474 \n",
      "Cost after iteration 600: 0.632451 \n",
      "Cost after iteration 700: 0.626224 \n",
      "Cost after iteration 800: 0.620616 \n",
      "Cost after iteration 900: 0.615493 \n",
      "Train Accuracy is : 65.20763187429853\n",
      "Test Accuracy is : 65.20763187429853\n",
      "Cost after iteration 0: 0.693147 \n",
      "Cost after iteration 100: 0.682162 \n",
      "Cost after iteration 200: 0.668293 \n",
      "Cost after iteration 300: 0.656988 \n",
      "Cost after iteration 400: 0.647541 \n",
      "Cost after iteration 500: 0.639474 \n",
      "Cost after iteration 600: 0.632451 \n",
      "Cost after iteration 700: 0.626224 \n",
      "Cost after iteration 800: 0.620616 \n",
      "Cost after iteration 900: 0.615493 \n",
      "Cost after iteration 1000: 0.610758 \n",
      "Cost after iteration 1100: 0.606340 \n",
      "Cost after iteration 1200: 0.602184 \n",
      "Cost after iteration 1300: 0.598251 \n",
      "Cost after iteration 1400: 0.594509 \n",
      "Cost after iteration 1500: 0.590936 \n",
      "Cost after iteration 1600: 0.587513 \n",
      "Cost after iteration 1700: 0.584226 \n",
      "Cost after iteration 1800: 0.581063 \n",
      "Cost after iteration 1900: 0.578015 \n",
      "Train Accuracy is : 66.89113355780023\n",
      "Test Accuracy is : 66.89113355780023\n",
      "Cost after iteration 0: 0.693147 \n",
      "Cost after iteration 100: 0.682162 \n",
      "Cost after iteration 200: 0.668293 \n",
      "Cost after iteration 300: 0.656988 \n",
      "Cost after iteration 400: 0.647541 \n",
      "Cost after iteration 500: 0.639474 \n",
      "Cost after iteration 600: 0.632451 \n",
      "Cost after iteration 700: 0.626224 \n",
      "Cost after iteration 800: 0.620616 \n",
      "Cost after iteration 900: 0.615493 \n",
      "Cost after iteration 1000: 0.610758 \n",
      "Cost after iteration 1100: 0.606340 \n",
      "Cost after iteration 1200: 0.602184 \n",
      "Cost after iteration 1300: 0.598251 \n",
      "Cost after iteration 1400: 0.594509 \n",
      "Cost after iteration 1500: 0.590936 \n",
      "Cost after iteration 1600: 0.587513 \n",
      "Cost after iteration 1700: 0.584226 \n",
      "Cost after iteration 1800: 0.581063 \n",
      "Cost after iteration 1900: 0.578015 \n",
      "Cost after iteration 2000: 0.575073 \n",
      "Cost after iteration 2100: 0.572232 \n",
      "Cost after iteration 2200: 0.569486 \n",
      "Cost after iteration 2300: 0.566830 \n",
      "Cost after iteration 2400: 0.564259 \n",
      "Cost after iteration 2500: 0.561770 \n",
      "Cost after iteration 2600: 0.559360 \n",
      "Cost after iteration 2700: 0.557025 \n",
      "Cost after iteration 2800: 0.554762 \n",
      "Cost after iteration 2900: 0.552568 \n",
      "Cost after iteration 3000: 0.550442 \n",
      "Cost after iteration 3100: 0.548381 \n",
      "Cost after iteration 3200: 0.546381 \n",
      "Cost after iteration 3300: 0.544442 \n",
      "Cost after iteration 3400: 0.542561 \n",
      "Cost after iteration 3500: 0.540736 \n",
      "Cost after iteration 3600: 0.538965 \n",
      "Cost after iteration 3700: 0.537247 \n",
      "Cost after iteration 3800: 0.535579 \n",
      "Cost after iteration 3900: 0.533960 \n",
      "Cost after iteration 4000: 0.532389 \n",
      "Cost after iteration 4100: 0.530863 \n",
      "Cost after iteration 4200: 0.529382 \n",
      "Cost after iteration 4300: 0.527943 \n",
      "Cost after iteration 4400: 0.526546 \n",
      "Cost after iteration 4500: 0.525189 \n",
      "Cost after iteration 4600: 0.523871 \n",
      "Cost after iteration 4700: 0.522590 \n",
      "Cost after iteration 4800: 0.521346 \n",
      "Cost after iteration 4900: 0.520137 \n",
      "Train Accuracy is : 73.28843995510663\n",
      "Test Accuracy is : 73.28843995510663\n",
      "Cost after iteration 0: 0.693147 \n",
      "Cost after iteration 100: 0.682162 \n",
      "Cost after iteration 200: 0.668293 \n",
      "Cost after iteration 300: 0.656988 \n",
      "Cost after iteration 400: 0.647541 \n",
      "Cost after iteration 500: 0.639474 \n",
      "Cost after iteration 600: 0.632451 \n",
      "Cost after iteration 700: 0.626224 \n",
      "Cost after iteration 800: 0.620616 \n",
      "Cost after iteration 900: 0.615493 \n",
      "Cost after iteration 1000: 0.610758 \n",
      "Cost after iteration 1100: 0.606340 \n",
      "Cost after iteration 1200: 0.602184 \n",
      "Cost after iteration 1300: 0.598251 \n",
      "Cost after iteration 1400: 0.594509 \n",
      "Cost after iteration 1500: 0.590936 \n",
      "Cost after iteration 1600: 0.587513 \n",
      "Cost after iteration 1700: 0.584226 \n",
      "Cost after iteration 1800: 0.581063 \n",
      "Cost after iteration 1900: 0.578015 \n",
      "Cost after iteration 2000: 0.575073 \n",
      "Cost after iteration 2100: 0.572232 \n",
      "Cost after iteration 2200: 0.569486 \n",
      "Cost after iteration 2300: 0.566830 \n",
      "Cost after iteration 2400: 0.564259 \n",
      "Cost after iteration 2500: 0.561770 \n",
      "Cost after iteration 2600: 0.559360 \n",
      "Cost after iteration 2700: 0.557025 \n",
      "Cost after iteration 2800: 0.554762 \n",
      "Cost after iteration 2900: 0.552568 \n",
      "Cost after iteration 3000: 0.550442 \n",
      "Cost after iteration 3100: 0.548381 \n",
      "Cost after iteration 3200: 0.546381 \n",
      "Cost after iteration 3300: 0.544442 \n",
      "Cost after iteration 3400: 0.542561 \n",
      "Cost after iteration 3500: 0.540736 \n",
      "Cost after iteration 3600: 0.538965 \n",
      "Cost after iteration 3700: 0.537247 \n",
      "Cost after iteration 3800: 0.535579 \n",
      "Cost after iteration 3900: 0.533960 \n",
      "Cost after iteration 4000: 0.532389 \n",
      "Cost after iteration 4100: 0.530863 \n",
      "Cost after iteration 4200: 0.529382 \n",
      "Cost after iteration 4300: 0.527943 \n",
      "Cost after iteration 4400: 0.526546 \n",
      "Cost after iteration 4500: 0.525189 \n",
      "Cost after iteration 4600: 0.523871 \n",
      "Cost after iteration 4700: 0.522590 \n",
      "Cost after iteration 4800: 0.521346 \n",
      "Cost after iteration 4900: 0.520137 \n",
      "Cost after iteration 5000: 0.518961 \n",
      "Cost after iteration 5100: 0.517819 \n",
      "Cost after iteration 5200: 0.516709 \n",
      "Cost after iteration 5300: 0.515629 \n",
      "Cost after iteration 5400: 0.514580 \n",
      "Cost after iteration 5500: 0.513559 \n",
      "Cost after iteration 5600: 0.512567 \n",
      "Cost after iteration 5700: 0.511601 \n",
      "Cost after iteration 5800: 0.510662 \n",
      "Cost after iteration 5900: 0.509748 \n",
      "Cost after iteration 6000: 0.508860 \n",
      "Cost after iteration 6100: 0.507995 \n",
      "Cost after iteration 6200: 0.507153 \n",
      "Cost after iteration 6300: 0.506334 \n",
      "Cost after iteration 6400: 0.505536 \n",
      "Cost after iteration 6500: 0.504760 \n",
      "Cost after iteration 6600: 0.504004 \n",
      "Cost after iteration 6700: 0.503267 \n",
      "Cost after iteration 6800: 0.502550 \n",
      "Cost after iteration 6900: 0.501852 \n",
      "Cost after iteration 7000: 0.501172 \n",
      "Cost after iteration 7100: 0.500509 \n",
      "Cost after iteration 7200: 0.499863 \n",
      "Cost after iteration 7300: 0.499233 \n",
      "Cost after iteration 7400: 0.498620 \n",
      "Cost after iteration 7500: 0.498022 \n",
      "Cost after iteration 7600: 0.497439 \n",
      "Cost after iteration 7700: 0.496870 \n",
      "Cost after iteration 7800: 0.496316 \n",
      "Cost after iteration 7900: 0.495775 \n",
      "Cost after iteration 8000: 0.495247 \n",
      "Cost after iteration 8100: 0.494733 \n",
      "Cost after iteration 8200: 0.494231 \n",
      "Cost after iteration 8300: 0.493740 \n",
      "Cost after iteration 8400: 0.493262 \n",
      "Cost after iteration 8500: 0.492795 \n",
      "Cost after iteration 8600: 0.492339 \n",
      "Cost after iteration 8700: 0.491894 \n",
      "Cost after iteration 8800: 0.491459 \n",
      "Cost after iteration 8900: 0.491034 \n",
      "Cost after iteration 9000: 0.490619 \n",
      "Cost after iteration 9100: 0.490213 \n",
      "Cost after iteration 9200: 0.489817 \n",
      "Cost after iteration 9300: 0.489429 \n",
      "Cost after iteration 9400: 0.489051 \n",
      "Cost after iteration 9500: 0.488680 \n",
      "Cost after iteration 9600: 0.488318 \n",
      "Cost after iteration 9700: 0.487964 \n",
      "Cost after iteration 9800: 0.487617 \n",
      "Cost after iteration 9900: 0.487278 \n",
      "Train Accuracy is : 79.57351290684625\n",
      "Test Accuracy is : 79.57351290684625\n"
     ]
    }
   ],
   "source": [
    "# Time being calling model for train dataset only as preprocessing is required for test dataset\n",
    "d = model(X_train, Y_train, X_train, Y_train, num_iterations = 1000, learning_rate = 0.005, print_cost = True)\n",
    "d = model(X_train, Y_train, X_train, Y_train, num_iterations = 2000, learning_rate = 0.005, print_cost = True)\n",
    "d = model(X_train, Y_train, X_train, Y_train, num_iterations = 5000, learning_rate = 0.005, print_cost = True)\n",
    "d = model(X_train, Y_train, X_train, Y_train, num_iterations = 10000, learning_rate = 0.005, print_cost = True)"
   ]
  },
  {
   "cell_type": "code",
   "execution_count": 29,
   "metadata": {
    "collapsed": false
   },
   "outputs": [
    {
     "name": "stdout",
     "output_type": "stream",
     "text": [
      "-------------------------Learning curve for 1000 iterations-------------------------\n",
      "Train Accuracy is : 65.20763187429853\n",
      "Test Accuracy is : 65.20763187429853\n"
     ]
    },
    {
     "data": {
      "image/png": "[encoded data removed]",
      "text/plain": [
       "<matplotlib.figure.Figure at 0x2654f8f5da0>"
      ]
     },
     "metadata": {},
     "output_type": "display_data"
    },
    {
     "name": "stdout",
     "output_type": "stream",
     "text": [
      "-------------------------Learning curve for 2000 iterations-------------------------\n",
      "Train Accuracy is : 66.89113355780023\n",
      "Test Accuracy is : 66.89113355780023\n"
     ]
    },
    {
     "data": {
      "image/png": "[encoded data removed]",
      "text/plain": [
       "<matplotlib.figure.Figure at 0x2654a4d1898>"
      ]
     },
     "metadata": {},
     "output_type": "display_data"
    },
    {
     "name": "stdout",
     "output_type": "stream",
     "text": [
      "-------------------------Learning curve for 5000 iterations-------------------------\n",
      "Train Accuracy is : 73.28843995510663\n",
      "Test Accuracy is : 73.28843995510663\n"
     ]
    },
    {
     "data": {
      "image/png": "[encoded data removed]",
      "text/plain": [
       "<matplotlib.figure.Figure at 0x26550d24358>"
      ]
     },
     "metadata": {},
     "output_type": "display_data"
    },
    {
     "name": "stdout",
     "output_type": "stream",
     "text": [
      "-------------------------Learning curve for 10000 iterations-------------------------\n",
      "Train Accuracy is : 79.57351290684625\n",
      "Test Accuracy is : 79.57351290684625\n"
     ]
    },
    {
     "data": {
      "image/png": "[encoded data removed]",
      "text/plain": [
       "<matplotlib.figure.Figure at 0x26550e338d0>"
      ]
     },
     "metadata": {},
     "output_type": "display_data"
    },
    {
     "name": "stdout",
     "output_type": "stream",
     "text": [
      "-------------------------Learning curve for 50000 iterations-------------------------\n",
      "Train Accuracy is : 81.14478114478115\n",
      "Test Accuracy is : 81.14478114478115\n"
     ]
    },
    {
     "data": {
      "image/png": "[encoded data removed]",
      "text/plain": [
       "<matplotlib.figure.Figure at 0x26550ea5be0>"
      ]
     },
     "metadata": {},
     "output_type": "display_data"
    },
    {
     "name": "stdout",
     "output_type": "stream",
     "text": [
      "-------------------------Learning curve for 100000 iterations-------------------------\n",
      "Train Accuracy is : 80.8080808080808\n",
      "Test Accuracy is : 80.8080808080808\n"
     ]
    },
    {
     "data": {
      "image/png": "[encoded data removed]",
      "text/plain": [
       "<matplotlib.figure.Figure at 0x26550f58f60>"
      ]
     },
     "metadata": {},
     "output_type": "display_data"
    },
    {
     "name": "stdout",
     "output_type": "stream",
     "text": [
      "-------------------------Learning curve for 150000 iterations-------------------------\n",
      "Train Accuracy is : 80.8080808080808\n",
      "Test Accuracy is : 80.8080808080808\n"
     ]
    },
    {
     "data": {
      "image/png": "[encoded data removed]",
      "text/plain": [
       "<matplotlib.figure.Figure at 0x26550fc8eb8>"
      ]
     },
     "metadata": {},
     "output_type": "display_data"
    }
   ],
   "source": [
    "# Plotting the learning Curve:\n",
    "print('-------------------------Learning curve for 1000 iterations-------------------------')\n",
    "d = model(X_train, Y_train, X_train, Y_train, num_iterations = 1000, learning_rate = 0.005, print_cost = 0)\n",
    "costs = np.squeeze(d['costs'])\n",
    "plt.plot(costs)\n",
    "plt.title('Learning Curve')\n",
    "plt.xlabel('Iterations (per 100)')\n",
    "plt.ylabel('Cost')\n",
    "plt.show()\n",
    "print('-------------------------Learning curve for 2000 iterations-------------------------')\n",
    "d = model(X_train, Y_train, X_train, Y_train, num_iterations = 2000, learning_rate = 0.005, print_cost = 0)\n",
    "costs = np.squeeze(d['costs'])\n",
    "plt.plot(costs)\n",
    "plt.title('Learning Curve')\n",
    "plt.xlabel('Iterations (per 100)')\n",
    "plt.ylabel('Cost')\n",
    "plt.show()\n",
    "print('-------------------------Learning curve for 5000 iterations-------------------------')\n",
    "d = model(X_train, Y_train, X_train, Y_train, num_iterations = 5000, learning_rate = 0.005, print_cost = 0)\n",
    "costs = np.squeeze(d['costs'])\n",
    "plt.plot(costs)\n",
    "plt.title('Learning Curve')\n",
    "plt.xlabel('Iterations (per 100)')\n",
    "plt.ylabel('Cost')\n",
    "plt.show()\n",
    "print('-------------------------Learning curve for 10000 iterations-------------------------')\n",
    "d = model(X_train, Y_train, X_train, Y_train, num_iterations = 10000, learning_rate = 0.005, print_cost = 0)\n",
    "costs = np.squeeze(d['costs'])\n",
    "plt.plot(costs)\n",
    "plt.title('Learning Curve')\n",
    "plt.xlabel('Iterations (per 100)')\n",
    "plt.ylabel('Cost')\n",
    "plt.show()\n",
    "print('-------------------------Learning curve for 50000 iterations-------------------------')\n",
    "d = model(X_train, Y_train, X_train, Y_train, num_iterations = 50000, learning_rate = 0.005, print_cost = 0)\n",
    "costs = np.squeeze(d['costs'])\n",
    "plt.plot(costs)\n",
    "plt.title('Learning Curve')\n",
    "plt.xlabel('Iterations (per 100)')\n",
    "plt.ylabel('Cost')\n",
    "plt.show()\n",
    "print('-------------------------Learning curve for 100000 iterations-------------------------')\n",
    "d = model(X_train, Y_train, X_train, Y_train, num_iterations = 100000, learning_rate = 0.005, print_cost = 0)\n",
    "costs = np.squeeze(d['costs'])\n",
    "plt.plot(costs)\n",
    "plt.title('Learning Curve')\n",
    "plt.xlabel('Iterations (per 100)')\n",
    "plt.ylabel('Cost')\n",
    "plt.show()\n",
    "print('-------------------------Learning curve for 150000 iterations-------------------------')\n",
    "d = model(X_train, Y_train, X_train, Y_train, num_iterations = 150000, learning_rate = 0.005, print_cost = 0)\n",
    "costs = np.squeeze(d['costs'])\n",
    "plt.plot(costs)\n",
    "plt.title('Learning Curve')\n",
    "plt.xlabel('Iterations (per 100)')\n",
    "plt.ylabel('Cost')\n",
    "plt.show()"
   ]
  },
  {
   "cell_type": "code",
   "execution_count": 35,
   "metadata": {
    "collapsed": false
   },
   "outputs": [
    {
     "name": "stdout",
     "output_type": "stream",
     "text": [
      "-------------------------Learning curve for 50000 iterations with learning rate: 0.001000-------------------------\n",
      "Train Accuracy is : 79.68574635241302\n",
      "Test Accuracy is : 79.68574635241302\n"
     ]
    },
    {
     "data": {
      "image/png": "[encoded data removed]",
      "text/plain": [
       "<matplotlib.figure.Figure at 0x26551008c88>"
      ]
     },
     "metadata": {},
     "output_type": "display_data"
    },
    {
     "name": "stdout",
     "output_type": "stream",
     "text": [
      "-------------------------Learning curve for 50000 iterations with learning rate: 0.002000-------------------------\n",
      "Train Accuracy is : 79.57351290684625\n",
      "Test Accuracy is : 79.57351290684625\n"
     ]
    },
    {
     "data": {
      "image/png": "[encoded data removed]",
      "text/plain": [
       "<matplotlib.figure.Figure at 0x265511b0128>"
      ]
     },
     "metadata": {},
     "output_type": "display_data"
    },
    {
     "name": "stdout",
     "output_type": "stream",
     "text": [
      "-------------------------Learning curve for 50000 iterations with learning rate: 0.003000-------------------------\n",
      "Train Accuracy is : 79.68574635241302\n",
      "Test Accuracy is : 79.68574635241302\n"
     ]
    },
    {
     "data": {
      "image/png": "[encoded data removed]",
      "text/plain": [
       "<matplotlib.figure.Figure at 0x2654f9cd6d8>"
      ]
     },
     "metadata": {},
     "output_type": "display_data"
    },
    {
     "name": "stdout",
     "output_type": "stream",
     "text": [
      "-------------------------Learning curve for 50000 iterations with learning rate: 0.004000-------------------------\n",
      "Train Accuracy is : 79.79797979797979\n",
      "Test Accuracy is : 79.79797979797979\n"
     ]
    },
    {
     "data": {
      "image/png": "[encoded data removed]",
      "text/plain": [
       "<matplotlib.figure.Figure at 0x26550ec9c50>"
      ]
     },
     "metadata": {},
     "output_type": "display_data"
    },
    {
     "name": "stdout",
     "output_type": "stream",
     "text": [
      "-------------------------Learning curve for 50000 iterations with learning rate: 0.005000-------------------------\n",
      "Train Accuracy is : 81.14478114478115\n",
      "Test Accuracy is : 81.14478114478115\n"
     ]
    },
    {
     "data": {
      "image/png": "[encoded data removed]",
      "text/plain": [
       "<matplotlib.figure.Figure at 0x2655121b9e8>"
      ]
     },
     "metadata": {},
     "output_type": "display_data"
    },
    {
     "name": "stdout",
     "output_type": "stream",
     "text": [
      "-------------------------Learning curve for 50000 iterations with learning rate: 0.006000-------------------------\n",
      "Train Accuracy is : 81.25701459034792\n",
      "Test Accuracy is : 81.25701459034792\n"
     ]
    },
    {
     "data": {
      "image/png": "[encoded data removed]",
      "text/plain": [
       "<matplotlib.figure.Figure at 0x26550fc8da0>"
      ]
     },
     "metadata": {},
     "output_type": "display_data"
    },
    {
     "name": "stdout",
     "output_type": "stream",
     "text": [
      "-------------------------Learning curve for 50000 iterations with learning rate: 0.007000-------------------------\n",
      "Train Accuracy is : 79.01234567901236\n",
      "Test Accuracy is : 79.01234567901236\n"
     ]
    },
    {
     "data": {
      "image/png": "[encoded data removed]",
      "text/plain": [
       "<matplotlib.figure.Figure at 0x26551052d68>"
      ]
     },
     "metadata": {},
     "output_type": "display_data"
    },
    {
     "name": "stdout",
     "output_type": "stream",
     "text": [
      "-------------------------Learning curve for 50000 iterations with learning rate: 0.008000-------------------------\n",
      "Train Accuracy is : 78.00224466891133\n",
      "Test Accuracy is : 78.00224466891133\n"
     ]
    },
    {
     "data": {
      "image/png": "[encoded data removed]",
      "text/plain": [
       "<matplotlib.figure.Figure at 0x26550d8c6d8>"
      ]
     },
     "metadata": {},
     "output_type": "display_data"
    },
    {
     "name": "stdout",
     "output_type": "stream",
     "text": [
      "-------------------------Learning curve for 50000 iterations with learning rate: 0.009000-------------------------\n",
      "Train Accuracy is : 77.10437710437711\n",
      "Test Accuracy is : 77.10437710437711\n"
     ]
    },
    {
     "data": {
      "image/png": "[encoded data removed]",
      "text/plain": [
       "<matplotlib.figure.Figure at 0x26550dde3c8>"
      ]
     },
     "metadata": {},
     "output_type": "display_data"
    }
   ],
   "source": [
    "for i in range(1,10):    \n",
    "    print('-------------------------Learning curve for 50000 iterations with learning rate: %f-------------------------'%(0.001*i))\n",
    "    d = model(X_train, Y_train, X_train, Y_train, num_iterations = 50000, learning_rate = 0.001*(i), print_cost = 0)\n",
    "    costs = np.squeeze(d['costs'])\n",
    "    plt.plot(costs)\n",
    "    plt.title('Learning Curve')\n",
    "    plt.xlabel('Iterations (per 100)')\n",
    "    plt.ylabel('Cost')\n",
    "    plt.show()"
   ]
  }
 ],
 "metadata": {
  "kernelspec": {
   "display_name": "Python 3",
   "language": "python",
   "name": "python3"
  },
  "language_info": {
   "codemirror_mode": {
    "name": "ipython",
    "version": 3
   },
   "file_extension": ".py",
   "mimetype": "text/x-python",
   "name": "python",
   "nbconvert_exporter": "python",
   "pygments_lexer": "ipython3",
   "version": "3.6.0"
  }
 },
 "nbformat": 4,
 "nbformat_minor": 2
}
